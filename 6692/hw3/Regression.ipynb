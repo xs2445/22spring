{
 "cells": [
  {
   "cell_type": "markdown",
   "id": "13602315",
   "metadata": {},
   "source": [
    "# Lab - Data Collection - Training\n",
    "## E6692 Spring 2022\n",
    "\n",
    "VERSION WITH SOLUTIONS"
   ]
  },
  {
   "cell_type": "markdown",
   "id": "946bc854",
   "metadata": {},
   "source": [
    "In part 2 of this lab we will be collecting and labeling data for a regression task with the Logitech webcam, training regression models, and performing live inference through the webcam with the trained models. We will define and train a custom CNN regression model that inherits from the PyTorch **nn.Module**, as well as fine tuning a pretrained ResNet model. The process for labeling the regression data is slightly different from part 1. See **Label Regression Data** and the docstring of **regression_labeling.py** for details.\n",
    "\n",
    "To use the webcam in this lab you need to specify it when mounting the docker by adding the tag `--device /dev/video0`. Additionally, you should include a data volume for storing images. We recommended that you have a `data` folder in the root directory of your Jetson Nano, and subsequent lab folders within this data folder. For example, the data for this lab would be stored in `~/data/Lab-DataCollectionAndTraining`. Then you can include the external data directory when mounting the docker with `--volume ~/data/Lab-DataCollectionAndTraining:/docker/path/to/lab`.\n",
    "\n",
    "\n",
    "## Part 2.1: Data Collection for Regression\n",
    "\n",
    "In this part we collect and label image data for regression using the Jetson Nano webcam."
   ]
  },
  {
   "cell_type": "code",
   "execution_count": 1,
   "id": "c5d9f714",
   "metadata": {},
   "outputs": [
    {
     "name": "stdout",
     "output_type": "stream",
     "text": [
      "GPU name:  NVIDIA Tegra X1\n"
     ]
    }
   ],
   "source": [
    "# import modules\n",
    "import os\n",
    "import torch\n",
    "import torchvision\n",
    "import torchvision.transforms as T\n",
    "import random\n",
    "import matplotlib.pyplot as plt\n",
    "\n",
    "from utils.data_collection import DATA_SHAPE\n",
    "from utils.datasets import RegressionDataset, get_label_dict\n",
    "from utils.data_collection import collect_regression_data\n",
    "from utils.models import CustomRegression\n",
    "from utils.training import train_regression, plot_loss_and_accuracy\n",
    "from utils.live_inference import live_regression\n",
    "\n",
    "# define paths\n",
    "data_path = './data/regression'\n",
    "if not os.path.exists(data_path):\n",
    "    os.makedirs(data_path)\n",
    "\n",
    "labeled_data_path = os.path.join(data_path, 'labeled')\n",
    "if not os.path.exists(labeled_data_path):\n",
    "    os.makedirs(labeled_data_path)\n",
    "    \n",
    "unlabeled_data_path = os.path.join(data_path, 'unlabeled')\n",
    "if not os.path.exists(unlabeled_data_path):\n",
    "    os.makedirs(unlabeled_data_path)\n",
    "\n",
    "train_path = os.path.join(labeled_data_path, 'train')\n",
    "if not os.path.exists(train_path):\n",
    "    os.makedirs(train_path)\n",
    "\n",
    "val_path = os.path.join(labeled_data_path, 'val')\n",
    "if not os.path.exists(val_path):\n",
    "    os.makedirs(val_path)\n",
    "    \n",
    "models_path = './models'\n",
    "if not os.path.exists(models_path):\n",
    "    os.makedirs(models_path)\n",
    "\n",
    "labels_path = './regression_labels.txt'\n",
    "\n",
    "device = torch.device('cuda')\n",
    "print(\"GPU name: \", torch.cuda.get_device_name(0))\n",
    "\n",
    "# reload modules every 2 seconds to see changes in notebook\n",
    "%load_ext autoreload\n",
    "%autoreload 2\n",
    "\n",
    "%matplotlib inline"
   ]
  },
  {
   "cell_type": "markdown",
   "id": "f8f58fdd",
   "metadata": {},
   "source": [
    "### Define A Regression Problem\n",
    "\n",
    "Define the regression problem by enumerating the regression classes our model will locate in an image. For example, image regression classes include left/right eye location, nose location, body keypoints, fingertip locations, etc. Define your own regression classes (at least 2), but keep in mind the limitations of collecting data through the webcam (relatively low resolution, confined to objects in the lab, time needed to label) and the capacity of models you are able to run on the Jetson Nano. \n"
   ]
  },
  {
   "cell_type": "code",
   "execution_count": 2,
   "id": "b2c92d38",
   "metadata": {},
   "outputs": [],
   "source": [
    "# TODO: define the names of regression classes that will be predicted and a name for the regression task. \n",
    "# Replace the following list elements with your regression classes\n",
    "\n",
    "regression_class_names = ['phone', 'bottle']\n",
    "regression_task_name = 'ThingsOnDesk'\n"
   ]
  },
  {
   "cell_type": "markdown",
   "id": "de900aae",
   "metadata": {},
   "source": [
    "### Collect, Preprocess, and Label Data\n",
    "\n",
    "TODO: complete the methods of the class **RegressionDataset** in **utils/datasets.py**. This class inherits from **torch.utils.data.Dataset** to give us compatibility between our custom classification dataset and **torch.utils.data.DataLoader** functionality. \n",
    "\n",
    "#### Data Augmentation\n",
    "\n",
    "To make our custom dataset more robust, we will apply data augmentation transforms.\n",
    "\n",
    "TODO: visit the documentation page for **[torchvision.transforms](https://pytorch.org/vision/main/auto_examples/plot_transforms.html)** to familiarize yourself with data augmentation transforms. Then use **torchvision.transforms.Compose()** to define a data augmentation pipeline.\n",
    "\n",
    "NOTE: data augmentation for regression can run into similar issues as for classification. For example, if you are applying spatial transformations to your images, you would need to apply the same spatial transforms to the regression coordinates. Keep this in mind when choosing augmentations.\n"
   ]
  },
  {
   "cell_type": "code",
   "execution_count": 3,
   "id": "29764a7a",
   "metadata": {},
   "outputs": [
    {
     "ename": "SyntaxError",
     "evalue": "invalid syntax (<ipython-input-3-35996aa4cc0d>, line 10)",
     "output_type": "error",
     "traceback": [
      "\u001b[0;36m  File \u001b[0;32m\"<ipython-input-3-35996aa4cc0d>\"\u001b[0;36m, line \u001b[0;32m10\u001b[0m\n\u001b[0;31m    T.ColorJitter(brightness=.5, hue=.3),\u001b[0m\n\u001b[0m    ^\u001b[0m\n\u001b[0;31mSyntaxError\u001b[0m\u001b[0;31m:\u001b[0m invalid syntax\n"
     ]
    }
   ],
   "source": [
    "# TODO: Use torchvision.transforms.Compose() to define a data augmentation pipeline\n",
    "\n",
    "transforms = T.Compose([\n",
    "    \n",
    "    # insert data augmentations here\n",
    "    \n",
    "    T.Resize(DATA_SHAPE),\n",
    "    T.ToTensor(), # don't modify Resize(), ToTensor() or Normalize().\n",
    "    T.Normalize([0.485, 0.456, 0.406], [0.229, 0.224, 0.225])\n",
    "    T.ColorJitter(brightness=.5, hue=.3),\n",
    "    T.GaussianBlur(kernel_size=(5, 9), sigma=(0.1, 5)),\n",
    "    T.RandomRotation(degrees=(0, 30))\n",
    "])\n"
   ]
  },
  {
   "cell_type": "markdown",
   "id": "3328e653",
   "metadata": {},
   "source": [
    "#### Discuss the differences between data augmentation for classification and regression.\n",
    "\n",
    "TODO: your answer here.\n",
    "\n"
   ]
  },
  {
   "cell_type": "code",
   "execution_count": null,
   "id": "0d22063c",
   "metadata": {},
   "outputs": [],
   "source": [
    "# TODO: define a training set and a validation set with the ClassificationDataset class.\n",
    "train_path = 'data/regression/labeled/train'\n",
    "val_path = 'data/regression/labeled/val'\n",
    "unlabeled_data_path = './data/regression/unlabeled/' + regression_task_name\n",
    "\n",
    "train_set = RegressionDataset(train_path, regression_class_names, regression_task_name, transforms=None)\n",
    "val_set = RegressionDataset(val_path, regression_class_names, regression_task_name, transforms=None)"
   ]
  },
  {
   "cell_type": "markdown",
   "id": "8091998b",
   "metadata": {},
   "source": [
    "#### Collect Data for Regression\n",
    "\n",
    "Use the function **collect_regression_data()** in **utils/data_collection.py** to collect data for image regression. The labeling process for regression data is slightly different than for classification. Rather than collecting data class by class, we will collect a large set of images from the webcam, then transfer them to your local computer to label them with point and click. Point and click functionality is not readily available in headless mode with the Jetson Nano.\n",
    "\n",
    "Similarly to the classification data collection function, you are welcome to make improvements or modifications to **collect_regression_data()**."
   ]
  },
  {
   "cell_type": "code",
   "execution_count": 5,
   "id": "bafd9c13",
   "metadata": {},
   "outputs": [
    {
     "name": "stdout",
     "output_type": "stream",
     "text": [
      "\n",
      "Data collection finished.\n"
     ]
    }
   ],
   "source": [
    "# TODO: use collect_regression_data() to collect training data\n",
    "#       Save the images to the unlabeled data path\n",
    "\n",
    "collect_regression_data(unlabeled_data_path)"
   ]
  },
  {
   "cell_type": "markdown",
   "id": "c0949a21",
   "metadata": {},
   "source": [
    "#### Label Regression Data\n",
    "\n",
    "Now that we have collected data for regression, we need to label it. To do this we will run the python script **regression_labeling.py** locally. Refer to the usage instructions in the doc string for details. \n",
    "\n",
    "TODO: Transfer the unlabeled images to your laptop using scp. Note that this requires dismounting the docker, and that you have saved the images in a volume outside of the docker. From a local terminal use the command `scp -r username@IP:~/Jetson Nano path/to/unlabeled /local/path/to/data` to transfer your unlabeled data from the Jetson Nano. Then run the following cell on your local machine to label the images you collected."
   ]
  },
  {
   "cell_type": "code",
   "execution_count": null,
   "id": "99bb88c2",
   "metadata": {},
   "outputs": [],
   "source": [
    "# TODO: label your regression data locally with regression_labeling.py\n",
    "# !python3 regression_labeling.py INSTRUCTOR TODO - UNCOMMENT"
   ]
  },
  {
   "cell_type": "markdown",
   "id": "70bbca5e",
   "metadata": {},
   "source": [
    "regression_labeling.py will generate a text file that contains the labels for the corresponding images. Once we have the labels file, we can populate the training and validation RegressionDatasets."
   ]
  },
  {
   "cell_type": "markdown",
   "id": "13f54998",
   "metadata": {},
   "source": [
    "#### Populate RegressionDataset with Labeled Images"
   ]
  },
  {
   "cell_type": "code",
   "execution_count": null,
   "id": "2ec664d1",
   "metadata": {},
   "outputs": [],
   "source": [
    "# Split the unlabeled images randomly into a training and validation set. \n",
    "\n",
    "train_val_split = 0.8 # define train/val split\n",
    "\n",
    "unlabled_image_names = os.listdir(unlabeled_data_path) # get list of unlabeled image names\n",
    "unlabled_image_names = [i for i in unlabled_image_names if '.jpg' in i] # remove non-images\n",
    "unlabled_length = len(unlabled_image_names) # get number of images\n",
    "\n",
    "split_index = int(train_val_split * unlabled_length) # define split index\n",
    "random.shuffle(unlabled_image_names) # randomly shuffle names\n",
    "\n",
    "unlabled_train_names = unlabled_image_names[:split_index] # split into train and val based on index\n",
    "unlabled_val_names = unlabled_image_names[split_index:]\n"
   ]
  },
  {
   "cell_type": "code",
   "execution_count": null,
   "id": "36fa6bb2",
   "metadata": {},
   "outputs": [],
   "source": [
    "# TODO: use the RegressionDataset.populate_from_files() method to populate \n",
    "#       the regression datasets. Print the length of each to the cell output.\n",
    "\n",
    "train_set.populate_from_files(unlabled_train_names, unlabeled_data_path, labels_path)\n",
    "# TODO: use RegressionDataset.grid_visualization() to visualize the training \n",
    "#       and validation sets.\n",
    "val_set.populate_from_files(unlabled_val_names, unlabeled_data_path, labels_path)\n"
   ]
  },
  {
   "cell_type": "markdown",
   "id": "a39a1d7a",
   "metadata": {},
   "source": [
    "#### Discuss the appearance of the train and validation sets. What characteristics are important to observe in a regression dataset before training?\n",
    "\n",
    "TODO: Your answer here."
   ]
  },
  {
   "cell_type": "markdown",
   "id": "787777a6",
   "metadata": {},
   "source": [
    "## Part 2.2 Custom Image Regression Model Definition\n",
    "\n",
    "Now that we have a dataset, we will define a convolutional neural network model for regression. We will use the [PyTorch functional API](https://pytorch.org/docs/stable/nn.functional.html) to construct a custom CNN regression model. Your model should have convolutional layers for learning features and fully connected layers for keypoint regression. The architecture of your model should be very similar to the classification model, except instead of classification the fully connected layers will be used to regress the keypoints. That means you will need twice as many outputs as regression classes (1 for X, 1 for Y).\n",
    "\n",
    "TODO: Complete the class **CustomRegression** in **utils/models.py**. This class inherits from the [PyTorch nn.Module class](https://pytorch.org/docs/stable/generated/torch.nn.Module.html), which gives it many functionalities including automatic handling of parameter transfer to the GPU. You must redefine the **CustomRegression.forward()** method to define the forward pass of the model with your custom layers. \n",
    "\n",
    "NOTE: Keep in mind the limited memory resources of the Jetson Nano. You may experience issues (kernel dying, notebook freezing) if your model has too many parameters."
   ]
  },
  {
   "cell_type": "code",
   "execution_count": 4,
   "id": "0af5b03f",
   "metadata": {},
   "outputs": [
    {
     "data": {
      "text/plain": [
       "CustomRegression(\n",
       "  (model): Sequential(\n",
       "    (0): Conv2d(3, 32, kernel_size=(3, 3), stride=(1, 1))\n",
       "    (1): ReLU()\n",
       "    (2): AvgPool2d(kernel_size=2, stride=2, padding=0)\n",
       "    (3): Conv2d(32, 32, kernel_size=(3, 3), stride=(1, 1))\n",
       "    (4): ReLU()\n",
       "    (5): AvgPool2d(kernel_size=2, stride=2, padding=0)\n",
       "    (6): Conv2d(32, 64, kernel_size=(3, 3), stride=(1, 1))\n",
       "    (7): ReLU()\n",
       "    (8): AvgPool2d(kernel_size=2, stride=2, padding=0)\n",
       "    (9): Conv2d(64, 64, kernel_size=(3, 3), stride=(1, 1))\n",
       "    (10): ReLU()\n",
       "    (11): AvgPool2d(kernel_size=2, stride=2, padding=0)\n",
       "    (12): Conv2d(64, 128, kernel_size=(3, 3), stride=(1, 1))\n",
       "    (13): ReLU()\n",
       "    (14): AvgPool2d(kernel_size=2, stride=2, padding=0)\n",
       "    (15): Flatten(start_dim=1, end_dim=-1)\n",
       "    (16): Linear(in_features=4608, out_features=32, bias=True)\n",
       "    (17): ReLU()\n",
       "    (18): Linear(in_features=32, out_features=4, bias=True)\n",
       "    (19): ReLU()\n",
       "  )\n",
       ")"
      ]
     },
     "execution_count": 4,
     "metadata": {},
     "output_type": "execute_result"
    }
   ],
   "source": [
    "# Define instance of CustomRegression\n",
    "\n",
    "num_regression_classes = len(regression_class_names) # get the number of classes (output shape)\n",
    "model = CustomRegression(num_regression_classes) # initialize model\n",
    "model.to(device) # transfer model to GPU\n"
   ]
  },
  {
   "cell_type": "markdown",
   "id": "678e78cb",
   "metadata": {},
   "source": [
    "## Part 2.3 Custom Regression Model Training\n",
    "\n",
    "Now we need to train the model on our custom regression dataset. TODO: complete the function **train_regression()** in **utils/training.py**. Use the comments as a guide, and refer to the [PyTorch training loop documentation](https://pytorch.org/tutorials/beginner/introyt/trainingyt.html#:~:text=def%20train_one_epoch(epoch_index%2C%20tb_writer)%3A). Your training loop should save the model with the lowest validation loss score. \n",
    "\n",
    "NOTE: if you experience freezing or kernel dying, try reducing your batch size and defining a model with less parameters. "
   ]
  },
  {
   "cell_type": "code",
   "execution_count": 11,
   "id": "7e92f828",
   "metadata": {},
   "outputs": [
    {
     "name": "stdout",
     "output_type": "stream",
     "text": [
      "Epoch: 1\n",
      "sample:72, train_loss:0.2368\n",
      "sample:152, train_loss:0.2483\n",
      "Train Loss:0.2529\n",
      "Val Loss:0.1333\n",
      "Best model saved.\n",
      "\n",
      "\n",
      "Epoch: 2\n",
      "sample:72, train_loss:0.2367\n",
      "sample:152, train_loss:0.2482\n",
      "Train Loss:0.2528\n",
      "Val Loss:0.1331\n",
      "Best model saved.\n",
      "\n",
      "\n",
      "Epoch: 3\n",
      "sample:72, train_loss:0.2366\n",
      "sample:152, train_loss:0.2480\n",
      "Train Loss:0.2527\n",
      "Val Loss:0.1330\n",
      "Best model saved.\n",
      "\n",
      "\n",
      "Epoch: 4\n",
      "sample:72, train_loss:0.2366\n",
      "sample:152, train_loss:0.2479\n",
      "Train Loss:0.2527\n",
      "Val Loss:0.1330\n",
      "Best model saved.\n",
      "\n",
      "\n",
      "Epoch: 5\n",
      "sample:72, train_loss:0.2365\n",
      "sample:152, train_loss:0.2478\n",
      "Train Loss:0.2526\n",
      "Val Loss:0.1329\n",
      "Best model saved.\n",
      "\n",
      "\n",
      "Epoch: 6\n",
      "sample:72, train_loss:0.2364\n",
      "sample:152, train_loss:0.2478\n",
      "Train Loss:0.2525\n",
      "Val Loss:0.1328\n",
      "Best model saved.\n",
      "\n",
      "\n",
      "Epoch: 7\n",
      "sample:72, train_loss:0.2364\n",
      "sample:152, train_loss:0.2477\n",
      "Train Loss:0.2525\n",
      "Val Loss:0.1328\n",
      "Best model saved.\n",
      "\n",
      "\n",
      "Epoch: 8\n",
      "sample:72, train_loss:0.2363\n",
      "sample:152, train_loss:0.2476\n",
      "Train Loss:0.2524\n",
      "Val Loss:0.1328\n",
      "Best model saved.\n",
      "\n",
      "\n",
      "Epoch: 9\n",
      "sample:72, train_loss:0.2362\n",
      "sample:152, train_loss:0.2475\n",
      "Train Loss:0.2524\n",
      "Val Loss:0.1327\n",
      "Best model saved.\n",
      "\n",
      "\n",
      "Epoch: 10\n",
      "sample:72, train_loss:0.2361\n",
      "sample:152, train_loss:0.2474\n",
      "Train Loss:0.2523\n",
      "Val Loss:0.1327\n",
      "Best model saved.\n",
      "\n",
      "\n"
     ]
    }
   ],
   "source": [
    "# TODO: define model hyperparameters and use train_regression() to train \n",
    "#       your CNN regression model\n",
    "\n",
    "\n",
    "batch_size = 8\n",
    "epochs = 10\n",
    "save_path = './models/regression_1_e10_b8.pth'\n",
    "optimizer = torch.optim.SGD(model.parameters(), lr=5e-4, momentum=0.9)\n",
    "\n",
    "train_loss_hist, val_loss_hist = train_regression(model, device, train_set, val_set, batch_size, optimizer, epochs, save_path)"
   ]
  },
  {
   "cell_type": "code",
   "execution_count": 22,
   "id": "b719e532",
   "metadata": {},
   "outputs": [
    {
     "data": {
      "image/png": "[encoded data removed]",
      "text/plain": [
       "<matplotlib.figure.Figure at 0x7eec08ee48>"
      ]
     },
     "metadata": {
      "needs_background": "light"
     },
     "output_type": "display_data"
    }
   ],
   "source": [
    "# TODO: plot the training and validation loss histories of your custom model separately\n",
    "#       Don't forget proper axis labels and titles.\n",
    "title = 'Training and validation loss (custom model)'\n",
    "labels = ['train','val']\n",
    "_, ax1 = plt.subplots(figsize=(10, 8))\n",
    "ax2 = ax1.twinx()\n",
    "\n",
    "ax1.plot(train_loss_hist, color='blue', label=labels[0])\n",
    "ax2.plot(val_loss_hist, color='orange', label=labels[1])\n",
    "ax1.set_xlabel(\"Epoch\")\n",
    "ax1.set_ylabel(\"Loss(train)\")\n",
    "ax1.legend()\n",
    "ax2.set_ylabel(\"Loss(val)\")\n",
    "ax2.legend()\n",
    "# plt.legend()\n",
    "\n",
    "plt.title(title)\n",
    "plt.show()\n"
   ]
  },
  {
   "cell_type": "markdown",
   "id": "ccb0fd22",
   "metadata": {},
   "source": [
    "### Outline the results of your custom regression training.\n",
    "\n",
    "If you are not getting low validation accuracy you may need to collect more data, revise your model architecture, or adjust hyperparameters. Explain your process of improving the model's performance below.\n",
    "\n",
    "TODO: Your answer here.\n",
    "\n",
    "Firstly the kernel freezed, so I reduced the batch_size. The model is very easy to converge, so I enlarged dataset, add more layers to the model and reduced the learning rate."
   ]
  },
  {
   "cell_type": "markdown",
   "id": "87ce8c57",
   "metadata": {},
   "source": [
    "## Part 2.4 Custom Regression Live Inference\n",
    "\n",
    "We will now use the custom trained model to do live classification through the webcam. \n",
    "\n",
    "TODO: Complete the function **live_regression()** in **utils/live_inference.py**."
   ]
  },
  {
   "cell_type": "code",
   "execution_count": 5,
   "id": "4313e07c",
   "metadata": {},
   "outputs": [
    {
     "name": "stdout",
     "output_type": "stream",
     "text": [
      "Loading model.\n",
      "Video feed started.\n",
      "[[0 0 0 0]] (1, 4)\n"
     ]
    },
    {
     "ename": "IndexError",
     "evalue": "only integers, slices (`:`), ellipsis (`...`), numpy.newaxis (`None`) and integer or boolean arrays are valid indices",
     "output_type": "error",
     "traceback": [
      "\u001b[0;31m---------------------------------------------------------------------------\u001b[0m",
      "\u001b[0;31mIndexError\u001b[0m                                Traceback (most recent call last)",
      "\u001b[0;32m<ipython-input-5-b0b103749eab>\u001b[0m in \u001b[0;36m<module>\u001b[0;34m\u001b[0m\n\u001b[1;32m      2\u001b[0m \u001b[0mmodel_save_path\u001b[0m \u001b[0;34m=\u001b[0m \u001b[0;34m'./models/regression_1_e10_b4.pth'\u001b[0m\u001b[0;34m\u001b[0m\u001b[0;34m\u001b[0m\u001b[0m\n\u001b[1;32m      3\u001b[0m \u001b[0;34m\u001b[0m\u001b[0m\n\u001b[0;32m----> 4\u001b[0;31m \u001b[0mlive_regression\u001b[0m\u001b[0;34m(\u001b[0m\u001b[0mmodel_save_path\u001b[0m\u001b[0;34m,\u001b[0m \u001b[0mmodel\u001b[0m\u001b[0;34m,\u001b[0m \u001b[0mdevice\u001b[0m\u001b[0;34m,\u001b[0m \u001b[0mregression_class_names\u001b[0m\u001b[0;34m)\u001b[0m\u001b[0;34m\u001b[0m\u001b[0;34m\u001b[0m\u001b[0m\n\u001b[0m",
      "\u001b[0;32m~/hw3/utils/live_inference.py\u001b[0m in \u001b[0;36mlive_regression\u001b[0;34m(trained_weights_path, model, device, regression_class_names)\u001b[0m\n\u001b[1;32m    161\u001b[0m             \u001b[0;32mfor\u001b[0m \u001b[0mi\u001b[0m \u001b[0;32min\u001b[0m \u001b[0mregression_class_names\u001b[0m\u001b[0;34m:\u001b[0m\u001b[0;34m\u001b[0m\u001b[0;34m\u001b[0m\u001b[0m\n\u001b[1;32m    162\u001b[0m                 \u001b[0;31m# get x and y\u001b[0m\u001b[0;34m\u001b[0m\u001b[0;34m\u001b[0m\u001b[0;34m\u001b[0m\u001b[0m\n\u001b[0;32m--> 163\u001b[0;31m                 \u001b[0mx\u001b[0m \u001b[0;34m=\u001b[0m \u001b[0moutput\u001b[0m\u001b[0;34m[\u001b[0m\u001b[0;36m0\u001b[0m\u001b[0;34m,\u001b[0m\u001b[0mi\u001b[0m\u001b[0;34m*\u001b[0m\u001b[0;36m2\u001b[0m\u001b[0;34m]\u001b[0m\u001b[0;34m\u001b[0m\u001b[0;34m\u001b[0m\u001b[0m\n\u001b[0m\u001b[1;32m    164\u001b[0m                 \u001b[0my\u001b[0m \u001b[0;34m=\u001b[0m \u001b[0moutput\u001b[0m\u001b[0;34m[\u001b[0m\u001b[0;36m0\u001b[0m\u001b[0;34m,\u001b[0m\u001b[0mi\u001b[0m\u001b[0;34m*\u001b[0m\u001b[0;36m2\u001b[0m\u001b[0;34m+\u001b[0m\u001b[0;36m1\u001b[0m\u001b[0;34m]\u001b[0m\u001b[0;34m\u001b[0m\u001b[0;34m\u001b[0m\u001b[0m\n\u001b[1;32m    165\u001b[0m                 \u001b[0;31m# orient x and y on the frame\u001b[0m\u001b[0;34m\u001b[0m\u001b[0;34m\u001b[0m\u001b[0;34m\u001b[0m\u001b[0m\n",
      "\u001b[0;31mIndexError\u001b[0m: only integers, slices (`:`), ellipsis (`...`), numpy.newaxis (`None`) and integer or boolean arrays are valid indices"
     ]
    }
   ],
   "source": [
    "# model_save_path = './models/regression_1_e5_b8.pth'\n",
    "model_save_path = './models/regression_1_e10_b4.pth'\n",
    "\n",
    "live_regression(model_save_path, model, device, regression_class_names)"
   ]
  },
  {
   "cell_type": "markdown",
   "id": "6da4dc53",
   "metadata": {},
   "source": [
    "### Discuss the performance of the live inference. Is the model able to do inference fast enough for the feed to be real time? Is the regression accurate?\n",
    "\n",
    "TODO: Not fast enough to be real time. Because the testing environment is slightly different with the dataset, so the regression is not very accurate"
   ]
  },
  {
   "cell_type": "markdown",
   "id": "420cf707",
   "metadata": {},
   "source": [
    "### Insert a screenshot of your custom model regression below.\n",
    "\n",
    "TODO: insert custom model regression screenshot here."
   ]
  },
  {
   "cell_type": "markdown",
   "id": "3cf15934",
   "metadata": {},
   "source": [
    "## Part 2.5 Pretrained Regression Live Inference\n",
    "\n",
    "In this part we repeat parts 1.2 - 1.4 with a [pretrained ResNet18](https://pytorch.org/hub/pytorch_vision_resnet/). We have defined the pretrained PyTorch implementation below."
   ]
  },
  {
   "cell_type": "code",
   "execution_count": 23,
   "id": "6c85b345",
   "metadata": {},
   "outputs": [
    {
     "name": "stderr",
     "output_type": "stream",
     "text": [
      "Downloading: \"https://download.pytorch.org/models/resnet18-f37072fd.pth\" to /root/.cache/torch/hub/checkpoints/resnet18-f37072fd.pth\n",
      "100.0%\n"
     ]
    },
    {
     "data": {
      "text/plain": [
       "ResNet(\n",
       "  (conv1): Conv2d(3, 64, kernel_size=(7, 7), stride=(2, 2), padding=(3, 3), bias=False)\n",
       "  (bn1): BatchNorm2d(64, eps=1e-05, momentum=0.1, affine=True, track_running_stats=True)\n",
       "  (relu): ReLU(inplace=True)\n",
       "  (maxpool): MaxPool2d(kernel_size=3, stride=2, padding=1, dilation=1, ceil_mode=False)\n",
       "  (layer1): Sequential(\n",
       "    (0): BasicBlock(\n",
       "      (conv1): Conv2d(64, 64, kernel_size=(3, 3), stride=(1, 1), padding=(1, 1), bias=False)\n",
       "      (bn1): BatchNorm2d(64, eps=1e-05, momentum=0.1, affine=True, track_running_stats=True)\n",
       "      (relu): ReLU(inplace=True)\n",
       "      (conv2): Conv2d(64, 64, kernel_size=(3, 3), stride=(1, 1), padding=(1, 1), bias=False)\n",
       "      (bn2): BatchNorm2d(64, eps=1e-05, momentum=0.1, affine=True, track_running_stats=True)\n",
       "    )\n",
       "    (1): BasicBlock(\n",
       "      (conv1): Conv2d(64, 64, kernel_size=(3, 3), stride=(1, 1), padding=(1, 1), bias=False)\n",
       "      (bn1): BatchNorm2d(64, eps=1e-05, momentum=0.1, affine=True, track_running_stats=True)\n",
       "      (relu): ReLU(inplace=True)\n",
       "      (conv2): Conv2d(64, 64, kernel_size=(3, 3), stride=(1, 1), padding=(1, 1), bias=False)\n",
       "      (bn2): BatchNorm2d(64, eps=1e-05, momentum=0.1, affine=True, track_running_stats=True)\n",
       "    )\n",
       "  )\n",
       "  (layer2): Sequential(\n",
       "    (0): BasicBlock(\n",
       "      (conv1): Conv2d(64, 128, kernel_size=(3, 3), stride=(2, 2), padding=(1, 1), bias=False)\n",
       "      (bn1): BatchNorm2d(128, eps=1e-05, momentum=0.1, affine=True, track_running_stats=True)\n",
       "      (relu): ReLU(inplace=True)\n",
       "      (conv2): Conv2d(128, 128, kernel_size=(3, 3), stride=(1, 1), padding=(1, 1), bias=False)\n",
       "      (bn2): BatchNorm2d(128, eps=1e-05, momentum=0.1, affine=True, track_running_stats=True)\n",
       "      (downsample): Sequential(\n",
       "        (0): Conv2d(64, 128, kernel_size=(1, 1), stride=(2, 2), bias=False)\n",
       "        (1): BatchNorm2d(128, eps=1e-05, momentum=0.1, affine=True, track_running_stats=True)\n",
       "      )\n",
       "    )\n",
       "    (1): BasicBlock(\n",
       "      (conv1): Conv2d(128, 128, kernel_size=(3, 3), stride=(1, 1), padding=(1, 1), bias=False)\n",
       "      (bn1): BatchNorm2d(128, eps=1e-05, momentum=0.1, affine=True, track_running_stats=True)\n",
       "      (relu): ReLU(inplace=True)\n",
       "      (conv2): Conv2d(128, 128, kernel_size=(3, 3), stride=(1, 1), padding=(1, 1), bias=False)\n",
       "      (bn2): BatchNorm2d(128, eps=1e-05, momentum=0.1, affine=True, track_running_stats=True)\n",
       "    )\n",
       "  )\n",
       "  (layer3): Sequential(\n",
       "    (0): BasicBlock(\n",
       "      (conv1): Conv2d(128, 256, kernel_size=(3, 3), stride=(2, 2), padding=(1, 1), bias=False)\n",
       "      (bn1): BatchNorm2d(256, eps=1e-05, momentum=0.1, affine=True, track_running_stats=True)\n",
       "      (relu): ReLU(inplace=True)\n",
       "      (conv2): Conv2d(256, 256, kernel_size=(3, 3), stride=(1, 1), padding=(1, 1), bias=False)\n",
       "      (bn2): BatchNorm2d(256, eps=1e-05, momentum=0.1, affine=True, track_running_stats=True)\n",
       "      (downsample): Sequential(\n",
       "        (0): Conv2d(128, 256, kernel_size=(1, 1), stride=(2, 2), bias=False)\n",
       "        (1): BatchNorm2d(256, eps=1e-05, momentum=0.1, affine=True, track_running_stats=True)\n",
       "      )\n",
       "    )\n",
       "    (1): BasicBlock(\n",
       "      (conv1): Conv2d(256, 256, kernel_size=(3, 3), stride=(1, 1), padding=(1, 1), bias=False)\n",
       "      (bn1): BatchNorm2d(256, eps=1e-05, momentum=0.1, affine=True, track_running_stats=True)\n",
       "      (relu): ReLU(inplace=True)\n",
       "      (conv2): Conv2d(256, 256, kernel_size=(3, 3), stride=(1, 1), padding=(1, 1), bias=False)\n",
       "      (bn2): BatchNorm2d(256, eps=1e-05, momentum=0.1, affine=True, track_running_stats=True)\n",
       "    )\n",
       "  )\n",
       "  (layer4): Sequential(\n",
       "    (0): BasicBlock(\n",
       "      (conv1): Conv2d(256, 512, kernel_size=(3, 3), stride=(2, 2), padding=(1, 1), bias=False)\n",
       "      (bn1): BatchNorm2d(512, eps=1e-05, momentum=0.1, affine=True, track_running_stats=True)\n",
       "      (relu): ReLU(inplace=True)\n",
       "      (conv2): Conv2d(512, 512, kernel_size=(3, 3), stride=(1, 1), padding=(1, 1), bias=False)\n",
       "      (bn2): BatchNorm2d(512, eps=1e-05, momentum=0.1, affine=True, track_running_stats=True)\n",
       "      (downsample): Sequential(\n",
       "        (0): Conv2d(256, 512, kernel_size=(1, 1), stride=(2, 2), bias=False)\n",
       "        (1): BatchNorm2d(512, eps=1e-05, momentum=0.1, affine=True, track_running_stats=True)\n",
       "      )\n",
       "    )\n",
       "    (1): BasicBlock(\n",
       "      (conv1): Conv2d(512, 512, kernel_size=(3, 3), stride=(1, 1), padding=(1, 1), bias=False)\n",
       "      (bn1): BatchNorm2d(512, eps=1e-05, momentum=0.1, affine=True, track_running_stats=True)\n",
       "      (relu): ReLU(inplace=True)\n",
       "      (conv2): Conv2d(512, 512, kernel_size=(3, 3), stride=(1, 1), padding=(1, 1), bias=False)\n",
       "      (bn2): BatchNorm2d(512, eps=1e-05, momentum=0.1, affine=True, track_running_stats=True)\n",
       "    )\n",
       "  )\n",
       "  (avgpool): AdaptiveAvgPool2d(output_size=(1, 1))\n",
       "  (fc): Linear(in_features=512, out_features=4, bias=True)\n",
       ")"
      ]
     },
     "execution_count": 23,
     "metadata": {},
     "output_type": "execute_result"
    }
   ],
   "source": [
    "resnet18 = torchvision.models.resnet18(pretrained=True)\n",
    "resnet18.fc = torch.nn.Linear(512, 2 * len(regression_class_names))\n",
    "resnet18.to(device)"
   ]
  },
  {
   "cell_type": "code",
   "execution_count": 24,
   "id": "4d2681fa",
   "metadata": {},
   "outputs": [
    {
     "name": "stdout",
     "output_type": "stream",
     "text": [
      "Epoch: 1\n"
     ]
    },
    {
     "name": "stderr",
     "output_type": "stream",
     "text": [
      "/usr/local/lib/python3.6/dist-packages/torch/nn/functional.py:718: UserWarning: Named tensors and all their associated APIs are an experimental feature and subject to change. Please do not use them for anything important until they are released as stable. (Triggered internally at  /media/nvidia/NVME/pytorch/pytorch-v1.9.0/c10/core/TensorImpl.h:1156.)\n",
      "  return torch.max_pool2d(input, kernel_size, stride, padding, dilation, ceil_mode)\n"
     ]
    },
    {
     "name": "stdout",
     "output_type": "stream",
     "text": [
      "sample:18, train_loss:0.3840\n",
      "sample:38, train_loss:0.5406\n",
      "sample:58, train_loss:0.6418\n",
      "sample:78, train_loss:0.6595\n",
      "sample:98, train_loss:0.6640\n",
      "sample:118, train_loss:0.6853\n",
      "sample:138, train_loss:0.6689\n",
      "sample:158, train_loss:0.7198\n",
      "sample:178, train_loss:0.6812\n",
      "sample:198, train_loss:0.6865\n",
      "sample:218, train_loss:0.6941\n",
      "Train Loss:0.6895\n",
      "Val Loss:41.1312\n",
      "Best model saved.\n",
      "\n",
      "\n",
      "Epoch: 2\n",
      "sample:18, train_loss:30.9258\n",
      "sample:38, train_loss:22.3955\n",
      "sample:58, train_loss:16.0870\n",
      "sample:78, train_loss:12.1816\n",
      "sample:98, train_loss:9.8666\n",
      "sample:118, train_loss:9.3271\n",
      "sample:138, train_loss:9.3044\n",
      "sample:158, train_loss:8.3520\n",
      "sample:178, train_loss:7.4755\n",
      "sample:198, train_loss:6.7510\n",
      "sample:218, train_loss:6.1689\n",
      "Train Loss:6.1130\n",
      "Val Loss:1.7453\n",
      "Best model saved.\n",
      "\n",
      "\n",
      "Epoch: 3\n",
      "sample:18, train_loss:1.3833\n",
      "sample:38, train_loss:1.0803\n",
      "sample:58, train_loss:0.8488\n",
      "sample:78, train_loss:0.7375\n",
      "sample:98, train_loss:0.6890\n",
      "sample:118, train_loss:0.6779\n",
      "sample:138, train_loss:0.6976\n",
      "sample:158, train_loss:0.6762\n",
      "sample:178, train_loss:0.6528\n",
      "sample:198, train_loss:0.6262\n",
      "sample:218, train_loss:0.5955\n",
      "Train Loss:0.5919\n",
      "Val Loss:2.8218\n",
      "\n",
      "\n",
      "Epoch: 4\n",
      "sample:18, train_loss:2.5464\n",
      "sample:38, train_loss:1.8376\n",
      "sample:58, train_loss:1.4078\n",
      "sample:78, train_loss:1.1965\n",
      "sample:98, train_loss:1.0485\n",
      "sample:118, train_loss:1.0500\n",
      "sample:138, train_loss:1.1158\n",
      "sample:158, train_loss:1.1037\n",
      "sample:178, train_loss:1.0532\n",
      "sample:198, train_loss:0.9773\n",
      "sample:218, train_loss:0.9117\n",
      "Train Loss:0.9047\n",
      "Val Loss:0.5547\n",
      "Best model saved.\n",
      "\n",
      "\n",
      "Epoch: 5\n",
      "sample:18, train_loss:0.4451\n",
      "sample:38, train_loss:0.3285\n",
      "sample:58, train_loss:0.3329\n",
      "sample:78, train_loss:0.3567\n",
      "sample:98, train_loss:0.3650\n",
      "sample:118, train_loss:0.3722\n",
      "sample:138, train_loss:0.3937\n",
      "sample:158, train_loss:0.4447\n",
      "sample:178, train_loss:0.4427\n",
      "sample:198, train_loss:0.4290\n",
      "sample:218, train_loss:0.4158\n",
      "Train Loss:0.4126\n",
      "Val Loss:0.4047\n",
      "Best model saved.\n",
      "\n",
      "\n",
      "Epoch: 6\n",
      "sample:18, train_loss:0.2379\n",
      "sample:38, train_loss:0.2405\n",
      "sample:58, train_loss:0.2294\n",
      "sample:78, train_loss:0.2541\n",
      "sample:98, train_loss:0.2601\n",
      "sample:118, train_loss:0.3421\n",
      "sample:138, train_loss:0.4446\n",
      "sample:158, train_loss:0.5312\n",
      "sample:178, train_loss:0.5259\n",
      "sample:198, train_loss:0.5017\n",
      "sample:218, train_loss:0.4831\n",
      "Train Loss:0.4795\n",
      "Val Loss:0.3195\n",
      "Best model saved.\n",
      "\n",
      "\n",
      "Epoch: 7\n",
      "sample:18, train_loss:0.1705\n",
      "sample:38, train_loss:0.1852\n",
      "sample:58, train_loss:0.1818\n",
      "sample:78, train_loss:0.2099\n",
      "sample:98, train_loss:0.2158\n",
      "sample:118, train_loss:0.3499\n",
      "sample:138, train_loss:0.4956\n",
      "sample:158, train_loss:0.6047\n",
      "sample:178, train_loss:0.5940\n",
      "sample:198, train_loss:0.5670\n",
      "sample:218, train_loss:0.5458\n",
      "Train Loss:0.5418\n",
      "Val Loss:0.3029\n",
      "Best model saved.\n",
      "\n",
      "\n",
      "Epoch: 8\n",
      "sample:18, train_loss:0.1642\n",
      "sample:38, train_loss:0.1786\n",
      "sample:58, train_loss:0.1755\n",
      "sample:78, train_loss:0.2027\n",
      "sample:98, train_loss:0.2049\n",
      "sample:118, train_loss:0.3816\n",
      "sample:138, train_loss:0.5555\n",
      "sample:158, train_loss:0.6899\n",
      "sample:178, train_loss:0.6725\n",
      "sample:198, train_loss:0.6405\n",
      "sample:218, train_loss:0.6195\n",
      "Train Loss:0.6156\n",
      "Val Loss:0.2934\n",
      "Best model saved.\n",
      "\n",
      "\n",
      "Epoch: 9\n",
      "sample:18, train_loss:0.1697\n",
      "sample:38, train_loss:0.1844\n",
      "sample:58, train_loss:0.1770\n",
      "sample:78, train_loss:0.1985\n",
      "sample:98, train_loss:0.1960\n",
      "sample:118, train_loss:0.4161\n",
      "sample:138, train_loss:0.6116\n",
      "sample:158, train_loss:0.7641\n",
      "sample:178, train_loss:0.7430\n",
      "sample:198, train_loss:0.7083\n",
      "sample:218, train_loss:0.6855\n",
      "Train Loss:0.6829\n",
      "Val Loss:0.2625\n",
      "Best model saved.\n",
      "\n",
      "\n",
      "Epoch: 10\n",
      "sample:18, train_loss:0.1475\n",
      "sample:38, train_loss:0.1748\n",
      "sample:58, train_loss:0.1720\n",
      "sample:78, train_loss:0.1959\n",
      "sample:98, train_loss:0.1939\n",
      "sample:118, train_loss:0.3618\n",
      "sample:138, train_loss:0.5037\n",
      "sample:158, train_loss:0.6339\n",
      "sample:178, train_loss:0.6262\n",
      "sample:198, train_loss:0.6051\n",
      "sample:218, train_loss:0.5917\n",
      "Train Loss:0.5899\n",
      "Val Loss:0.2712\n",
      "\n",
      "\n"
     ]
    }
   ],
   "source": [
    "# TODO: use train_regression() to fine tune ResNet18 for your dataset\n",
    "batch_size = 2\n",
    "epochs = 10\n",
    "save_path = './models/regression_res_1_e10_b2.pth'\n",
    "optimizer = torch.optim.SGD(resnet18.parameters(), lr=1e-3, momentum=0.9)\n",
    "\n",
    "train_loss_hist, val_loss_hist = train_regression(resnet18, device, train_set, val_set, batch_size, optimizer, epochs, save_path)"
   ]
  },
  {
   "cell_type": "code",
   "execution_count": 25,
   "id": "7c75db7e",
   "metadata": {},
   "outputs": [
    {
     "data": {
      "image/png": "[encoded data removed]",
      "text/plain": [
       "<matplotlib.figure.Figure at 0x7e87f0ce10>"
      ]
     },
     "metadata": {
      "needs_background": "light"
     },
     "output_type": "display_data"
    }
   ],
   "source": [
    "# TODO: plot the training and validation loss histories of ResNet18 separately\n",
    "#       Don't forget proper axis labels and titles.\n",
    "title = 'Training and validation loss (ResNet18 model)'\n",
    "labels = ['train','val']\n",
    "_, ax1 = plt.subplots(figsize=(10, 8))\n",
    "ax2 = ax1.twinx()\n",
    "\n",
    "ax1.plot(train_loss_hist, color='blue', label=labels[0])\n",
    "ax2.plot(val_loss_hist, color='orange', label=labels[1])\n",
    "ax1.set_xlabel(\"Epoch\")\n",
    "ax1.set_ylabel(\"Loss(train)\")\n",
    "ax1.legend()\n",
    "ax2.set_ylabel(\"Loss(val)\")\n",
    "ax2.legend()\n",
    "# plt.legend()\n",
    "\n",
    "plt.title(title)\n",
    "plt.show()"
   ]
  },
  {
   "cell_type": "code",
   "execution_count": null,
   "id": "4bdc62b8",
   "metadata": {},
   "outputs": [],
   "source": [
    "# TODO: execute live regression with the ResNet18 regression model using live_regression()\n"
   ]
  },
  {
   "cell_type": "markdown",
   "id": "5d501172",
   "metadata": {},
   "source": [
    "### Discuss the difference in performance between your custom model and the pretrained ResNet18 in the regression task. Were you able to fine tune the regression to your dataset? Which model's training and validation losses converged quicker? Why? Is there a considerable difference in inference speed between the two models?\n",
    "\n",
    "TODO: Your answer here.\n",
    "\n",
    "It is able to fine tune the regression to my dataset. The ResNet18 model takes more time to converge, that's maybe because of the number of parameters and the degree of non-linearity. Coustom model which has smaller size is faster on inferencing."
   ]
  }
 ],
 "metadata": {
  "kernelspec": {
   "display_name": "Python 3",
   "language": "python",
   "name": "python3"
  },
  "language_info": {
   "codemirror_mode": {
    "name": "ipython",
    "version": 3
   },
   "file_extension": ".py",
   "mimetype": "text/x-python",
   "name": "python",
   "nbconvert_exporter": "python",
   "pygments_lexer": "ipython3",
   "version": "3.6.9"
  }
 },
 "nbformat": 4,
 "nbformat_minor": 5
}
