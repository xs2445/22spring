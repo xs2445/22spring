{
 "cells": [
  {
   "cell_type": "markdown",
   "id": "b97e36c2",
   "metadata": {},
   "source": [
    "# Lab - Data Collection - Training\n",
    "## E6692 Spring 2022\n",
    "\n",
    "VERSION WITH SOLUTIONS"
   ]
  },
  {
   "cell_type": "markdown",
   "id": "1587ed84",
   "metadata": {},
   "source": [
    "In part 1 of this lab we will be collecting and labeling data for a classification task with the Logitech webcam, training classification models, and performing live inference through the webcam with the trained models. We will define and train a custom CNN classification model that inherits from the PyTorch **nn.Module**, as well as fine tuning a pretrained ResNet model. \n",
    "\n",
    "To use the webcam in this lab you need to specify it when mounting the docker by adding the tag `--device /dev/video0`. Additionally, you should include a data volume for storing images. We recommended that you have a `data` folder in the root directory of your Jetson Nano, and subsequent lab folders within this data folder. For example, the data for this lab would be stored in `~/data/Lab-DataCollectionAndTraining`. Then you can include the external data directory when mounting the docker with `--volume ~/data/Lab-DataCollectionAndTraining:/docker/path/to/lab`.\n",
    "\n",
    "## Part 1.1: Data Collection for Classification\n",
    "\n",
    "In this part we collect and label image data for classification using the Jetson Nano webcam."
   ]
  },
  {
   "cell_type": "code",
   "execution_count": null,
   "id": "375f9e27",
   "metadata": {},
   "outputs": [],
   "source": [
    "# import modules\n",
    "import os\n",
    "import torch\n",
    "import torchvision\n",
    "import torchvision.transforms as T\n",
    "\n",
    "from utils.data_collection import collect_categorical_data, DATA_SHAPE\n",
    "from utils.datasets import ClassificationDataset\n",
    "from utils.models import CustomClassifier\n",
    "from utils.training import train_classification, plot_loss_and_accuracy\n",
    "from utils.live_inference import live_classification\n",
    "\n",
    "# define paths\n",
    "data_path = './data/classification'\n",
    "if not os.path.exists(data_path):\n",
    "    os.makedirs(data_path)\n",
    "\n",
    "train_path = os.path.join(data_path, 'train')\n",
    "if not os.path.exists(train_path):\n",
    "    os.makedirs(train_path)\n",
    "\n",
    "val_path = os.path.join(data_path, 'val')\n",
    "if not os.path.exists(val_path):\n",
    "    os.makedirs(val_path)\n",
    "    \n",
    "models_path = './models'\n",
    "if not os.path.exists(models_path):\n",
    "    os.makedirs(models_path)\n",
    "\n",
    "device = torch.device('cuda')\n",
    "print(\"GPU name: \", torch.cuda.get_device_name(0))\n",
    "\n",
    "# reload modules every 2 seconds to see changes in notebook\n",
    "%load_ext autoreload\n",
    "%autoreload 2\n",
    "\n",
    "%matplotlib inline"
   ]
  },
  {
   "cell_type": "markdown",
   "id": "4237b895",
   "metadata": {},
   "source": [
    "### Define A Classification Problem\n",
    "\n",
    "Define the classification problem by enumerating the classes that we intend to predict. For example, image classification problems include the prediction of number of fingers in the frame, sign language characters, thumb up vs thumb down, hat on vs hat off, etc. Define your own classification problem, but keep in mind the limitations of collecting data through the webcam (relatively low resolution, confined to objects in the lab, time needed to label) and the capacity of models you are able to run on the Jetson Nano."
   ]
  },
  {
   "cell_type": "code",
   "execution_count": null,
   "id": "572a7fac",
   "metadata": {},
   "outputs": [],
   "source": [
    "# TODO: define the names of classes that will be predicted and a name for the classification task. \n",
    "# Replace the following list elements with your classes\n",
    "\n",
    "class_names = ['class1', 'class2', 'class3']\n",
    "classification_task_name = 'insert classification task name here'\n"
   ]
  },
  {
   "cell_type": "markdown",
   "id": "c623396f",
   "metadata": {},
   "source": [
    "### Collect, Preprocess, and Label Data\n",
    "\n",
    "TODO: complete the methods of the class **ClassificationDataset** in **utils/datasets.py**. This class inherits from **torch.utils.data.Dataset** to give us compatibility between our custom classification dataset and **torch.utils.data.DataLoader** functionality. \n",
    "\n",
    "#### Data Augmentation\n",
    "\n",
    "To make our custom dataset more robust, we will apply data augmentation transforms.\n",
    "\n",
    "TODO: visit the documentation page for **[torchvision.transforms](https://pytorch.org/vision/main/auto_examples/plot_transforms.html)** to familiarize yourself with data augmentation transforms. Then use **torchvision.transforms.Compose()** to define a data augmentation pipeline.\n",
    "\n",
    "NOTE: be careful not to augment your data in a way that would change it's label. For example, if your classification task is predicting thumb up vs thumb down, vertical flips of the image would be a poor choice of data augmentation!\n"
   ]
  },
  {
   "cell_type": "code",
   "execution_count": null,
   "id": "936550fb",
   "metadata": {},
   "outputs": [],
   "source": [
    "# TODO: Use torchvision.transforms.Compose() to define a data augmentation pipeline\n",
    "\n",
    "transforms = T.Compose([\n",
    "    \n",
    "    # insert data augmentations here\n",
    "    \n",
    "    T.Resize(DATA_SHAPE),\n",
    "    T.ToTensor(), # don't modify Resize(), ToTensor() or Normalize().\n",
    "    T.Normalize([0.485, 0.456, 0.406], [0.229, 0.224, 0.225])\n",
    "])\n"
   ]
  },
  {
   "cell_type": "code",
   "execution_count": null,
   "id": "5e67f0a9",
   "metadata": {},
   "outputs": [],
   "source": [
    "# TODO: define a training set and a validation set with the ClassificationDataset class.\n"
   ]
  },
  {
   "cell_type": "markdown",
   "id": "93b67cd6",
   "metadata": {},
   "source": [
    "#### Should data augmentations be used on the validation set? Why or why not?\n",
    "\n",
    "TODO: Your answer here."
   ]
  },
  {
   "cell_type": "markdown",
   "id": "d85c1445",
   "metadata": {},
   "source": [
    "#### Collect and Label Data\n",
    "\n",
    "Use the function **collect_categorical_data()** in **utils/data_collection.py** to collect categorical data for image classification. The base implementation of collect_categorical_data is sufficient for populating the training and validation classification datasets, but you are welcome to modify or improve it as you see fit."
   ]
  },
  {
   "cell_type": "code",
   "execution_count": null,
   "id": "5bfcbd1a",
   "metadata": {},
   "outputs": [],
   "source": [
    "# TODO: use collect_categorical_data() to collect training data\n",
    "\n",
    "collect_categorical_data(class_names, train_set)"
   ]
  },
  {
   "cell_type": "code",
   "execution_count": null,
   "id": "d4e5487a",
   "metadata": {},
   "outputs": [],
   "source": [
    "# TODO: use collect_categorical_data() to collect validation data\n",
    "\n",
    "collect_categorical_data(class_names, val_set)"
   ]
  },
  {
   "cell_type": "markdown",
   "id": "4f20252e",
   "metadata": {},
   "source": [
    "#### Visualize Data\n",
    "\n",
    "Complete the methods **get_random_image()** and **grid_visualization()** in **utils/datasets.ClassificationDataset**."
   ]
  },
  {
   "cell_type": "code",
   "execution_count": null,
   "id": "b7388529",
   "metadata": {},
   "outputs": [],
   "source": [
    "# TODO: use ClassificationDataset.grid_visualization() to view the training and validation sets.\n"
   ]
  },
  {
   "cell_type": "markdown",
   "id": "b544db05",
   "metadata": {},
   "source": [
    "#### Discuss the appearance of the train and validation sets. What characteristics are important to observe in a classification dataset before training?\n",
    "\n",
    "TODO: Your answer here."
   ]
  },
  {
   "attachments": {
    "be3ca1df-569a-4288-b597-f1d9fa596e27.png": {
     "image/png": "[encoded data removed]"
    }
   },
   "cell_type": "markdown",
   "id": "96398ce2",
   "metadata": {},
   "source": [
    "## Part 1.2 Custom Classifier Model Definition\n",
    "\n",
    "Now that we have a dataset, we will define a convolutional neural network classifier. We will use the [PyTorch functional API](https://pytorch.org/docs/stable/nn.functional.html) to construct a custom CNN classifier. Below is a diagram of what your basic model structure should look like. Note the convolutional layers for learning features and the fully connected layers for classification.\n",
    "\n",
    "![cnn_classifier.png](attachment:be3ca1df-569a-4288-b597-f1d9fa596e27.png)\n",
    "\n",
    "TODO: Complete the class **CustomClassifier** in **utils/models.py**. This class inherits from the [PyTorch nn.Module class](https://pytorch.org/docs/stable/generated/torch.nn.Module.html), which gives it many functionalities including automatic handling of parameter transfer to the GPU. You must redefine the **CustomClassifier.forward()** method to define the forward pass of the model with your custom layers. \n",
    "\n",
    "NOTE: Keep in mind the limited memory resources of the Jetson Nano. You may experience issues (kernel dying, notebook freezing) if your model has too many parameters."
   ]
  },
  {
   "cell_type": "code",
   "execution_count": null,
   "id": "3220b1c6",
   "metadata": {},
   "outputs": [],
   "source": [
    "# Define instance of CustomClassifier\n",
    "\n",
    "num_classes = len(class_names) # get the number of classes (output shape)\n",
    "model = CustomClassifier(num_classes) # initialize model\n",
    "model.to(device) # transfer model to GPU\n"
   ]
  },
  {
   "cell_type": "markdown",
   "id": "17bf86c8",
   "metadata": {},
   "source": [
    "## Part 1.3 Custom Classifier Model Training\n",
    "\n",
    "Now we need to train the model on our custom dataset. TODO: complete the function **train_classification()** in **utils/training.py**. Use the comments as a guide, and refer to the [PyTorch training loop documentation](https://pytorch.org/tutorials/beginner/introyt/trainingyt.html#:~:text=def%20train_one_epoch(epoch_index%2C%20tb_writer)%3A). Your training loop should save the model with the highest validation accuracy score. \n",
    "\n",
    "NOTE: if you experience freezing or kernel dying, try reducing your batch size and defining a model with less parameters. "
   ]
  },
  {
   "cell_type": "code",
   "execution_count": null,
   "id": "8438bba4",
   "metadata": {},
   "outputs": [],
   "source": [
    "# TODO: define model hyperparameters and use train_classification() to train \n",
    "#       your CNN classifier\n"
   ]
  },
  {
   "cell_type": "code",
   "execution_count": null,
   "id": "a7b45144",
   "metadata": {},
   "outputs": [],
   "source": [
    "# TODO: plot training accuracy and loss with plot_loss_and_accuracy()\n",
    "\n"
   ]
  },
  {
   "cell_type": "code",
   "execution_count": null,
   "id": "692e2e0f",
   "metadata": {},
   "outputs": [],
   "source": [
    "# TODO: plot validation accuracy and loss with plot_loss_and_accuracy()\n",
    "\n"
   ]
  },
  {
   "cell_type": "markdown",
   "id": "b4f9134e",
   "metadata": {},
   "source": [
    "### Outline the results of your custom classifier training.\n",
    "\n",
    "If you are not getting high validation accuracy you may need to collect more data, revise your model architecture, or adjust hyperparameters. Explain your process of improving the model's performance below.\n",
    "\n",
    "TODO: Your answer here."
   ]
  },
  {
   "cell_type": "markdown",
   "id": "7dbe6994",
   "metadata": {},
   "source": [
    "## Part 1.4 Custom Classifier Live Inference\n"
   ]
  },
  {
   "cell_type": "markdown",
   "id": "f53043c7",
   "metadata": {},
   "source": [
    "We will now use the custom trained model to do live classification through the webcam. \n",
    "\n",
    "TODO: Complete the function **live_classification()** in **utils/live_inference.py**."
   ]
  },
  {
   "cell_type": "code",
   "execution_count": null,
   "id": "84143f6a",
   "metadata": {},
   "outputs": [],
   "source": [
    "# TODO: execute live classification with the custom model using live_classification()\n",
    "\n",
    "live_classification(model_save_path, model, device, class_names)\n",
    "\n"
   ]
  },
  {
   "cell_type": "markdown",
   "id": "58538721",
   "metadata": {},
   "source": [
    "### Discuss the performance of the live inference. Is the model able to do inference fast enough for the feed to be real time? Is the classification accurate?\n",
    "\n",
    "TODO: Your answer here."
   ]
  },
  {
   "cell_type": "markdown",
   "id": "48ccd770",
   "metadata": {},
   "source": [
    "### Insert a screenshot of your custom model classification live inference below.\n",
    "\n",
    "TODO: insert custom model classification screenshot here."
   ]
  },
  {
   "cell_type": "markdown",
   "id": "d100d583",
   "metadata": {},
   "source": [
    "## Part 1.5 Pretrained Classifier\n",
    "\n",
    "In this part we repeat parts 1.2 - 1.4 with a [pretrained ResNet18](https://pytorch.org/hub/pytorch_vision_resnet/). We have defined the pretrained PyTorch implementation below.\n"
   ]
  },
  {
   "cell_type": "code",
   "execution_count": null,
   "id": "425b85ce",
   "metadata": {},
   "outputs": [],
   "source": [
    "resnet18 = torchvision.models.resnet18(pretrained=True)\n",
    "resnet18.fc = torch.nn.Linear(512, num_classes)\n",
    "resnet18.to(device)"
   ]
  },
  {
   "cell_type": "code",
   "execution_count": null,
   "id": "186beafd",
   "metadata": {},
   "outputs": [],
   "source": [
    "# TODO: use train_classification() to fine tune ResNet18 for your dataset\n"
   ]
  },
  {
   "cell_type": "code",
   "execution_count": null,
   "id": "acae11e1",
   "metadata": {},
   "outputs": [],
   "source": [
    "# TODO: plot training accuracy and loss of ResNet18 training with plot_loss_and_accuracy()\n"
   ]
  },
  {
   "cell_type": "code",
   "execution_count": null,
   "id": "ace54951",
   "metadata": {},
   "outputs": [],
   "source": [
    "# TODO: plot validation accuracy and loss of ResNet18 training with plot_loss_and_accuracy()\n"
   ]
  },
  {
   "cell_type": "code",
   "execution_count": null,
   "id": "1073f6cc",
   "metadata": {},
   "outputs": [],
   "source": [
    "# TODO: execute live classification with the ResNet18 using live_classification()\n"
   ]
  },
  {
   "cell_type": "markdown",
   "id": "23263150",
   "metadata": {},
   "source": [
    "### Discuss the difference in performance between your custom model and the pretrained ResNet18. Were you able to fine tune the classification to your dataset? Which model's training and validation losses converged quicker? Why? Is there a considerable difference in inference speed between the two models?\n",
    "\n",
    "TODO: Your answer here."
   ]
  },
  {
   "cell_type": "code",
   "execution_count": null,
   "id": "f83be3aa",
   "metadata": {},
   "outputs": [],
   "source": []
  }
 ],
 "metadata": {
  "kernelspec": {
   "display_name": "Python 3 (ipykernel)",
   "language": "python",
   "name": "python3"
  },
  "language_info": {
   "codemirror_mode": {
    "name": "ipython",
    "version": 3
   },
   "file_extension": ".py",
   "mimetype": "text/x-python",
   "name": "python",
   "nbconvert_exporter": "python",
   "pygments_lexer": "ipython3",
   "version": "3.7.9"
  }
 },
 "nbformat": 4,
 "nbformat_minor": 5
}
