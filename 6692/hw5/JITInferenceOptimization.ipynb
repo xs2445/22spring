{
 "cells": [
  {
   "cell_type": "markdown",
   "id": "79083b84",
   "metadata": {},
   "source": [
    "## PyTorch Inference Optimization \n",
    "\n",
    "## E6692 Spring 2022"
   ]
  },
  {
   "cell_type": "markdown",
   "id": "c212eb21",
   "metadata": {},
   "source": [
    "In this notebook you will measure the throughput of your custom trained YOLOv4-Tiny model."
   ]
  },
  {
   "cell_type": "code",
   "execution_count": 1,
   "id": "409d2415",
   "metadata": {},
   "outputs": [],
   "source": [
    "import torch # import modules\n",
    "import sys\n",
    "import time\n",
    "import numpy as np\n",
    "import time\n",
    "import sys\n",
    "\n",
    "from darknet_utils.darknet_to_pytorch import load_pytorch, load_darknet_as_pytorch # import custom modules\n",
    "from darknet_utils.inference import measure_throughput, plot_execution_times\n",
    "\n",
    "cfg_path = './cfg/yolov4-tiny-person-vehicle.cfg' # path to configuration file of custom model\n",
    "\n",
    "# torch_weights_path = './darknet/backup/yolov4-tiny-person-vehicle_best.weights' # path to JIT optimized model\n",
    "torch_weights_path = './darknet/backup/yolov4-tiny-person-vehicle_best.pt'\n",
    "\n",
    "device = 'cuda'\n",
    "\n",
    "%load_ext autoreload\n",
    "%autoreload 2"
   ]
  },
  {
   "cell_type": "markdown",
   "id": "ae7b62fc",
   "metadata": {},
   "source": [
    "**TODO:** Load the custom trained YOLOv4-Tiny PyTorch model in the cell below. \n",
    "\n",
    "TIP: If you don't want to see the model summary, you can insert `%%capture` as the first line in the cell to hide all output."
   ]
  },
  {
   "cell_type": "code",
   "execution_count": 2,
   "id": "d7890940",
   "metadata": {},
   "outputs": [
    {
     "data": {
      "text/plain": [
       "Darknet(\n",
       "  (models): ModuleList(\n",
       "    (0): Sequential(\n",
       "      (conv1): Conv2d(3, 32, kernel_size=(3, 3), stride=(2, 2), padding=(1, 1), bias=False)\n",
       "      (bn1): BatchNorm2d(32, eps=1e-05, momentum=0.1, affine=True, track_running_stats=True)\n",
       "      (leaky1): LeakyReLU(negative_slope=0.1, inplace=True)\n",
       "    )\n",
       "    (1): Sequential(\n",
       "      (conv2): Conv2d(32, 64, kernel_size=(3, 3), stride=(2, 2), padding=(1, 1), bias=False)\n",
       "      (bn2): BatchNorm2d(64, eps=1e-05, momentum=0.1, affine=True, track_running_stats=True)\n",
       "      (leaky2): LeakyReLU(negative_slope=0.1, inplace=True)\n",
       "    )\n",
       "    (2): Sequential(\n",
       "      (conv3): Conv2d(64, 64, kernel_size=(3, 3), stride=(1, 1), padding=(1, 1), bias=False)\n",
       "      (bn3): BatchNorm2d(64, eps=1e-05, momentum=0.1, affine=True, track_running_stats=True)\n",
       "      (leaky3): LeakyReLU(negative_slope=0.1, inplace=True)\n",
       "    )\n",
       "    (3): EmptyModule()\n",
       "    (4): Sequential(\n",
       "      (conv4): Conv2d(32, 32, kernel_size=(3, 3), stride=(1, 1), padding=(1, 1), bias=False)\n",
       "      (bn4): BatchNorm2d(32, eps=1e-05, momentum=0.1, affine=True, track_running_stats=True)\n",
       "      (leaky4): LeakyReLU(negative_slope=0.1, inplace=True)\n",
       "    )\n",
       "    (5): Sequential(\n",
       "      (conv5): Conv2d(32, 32, kernel_size=(3, 3), stride=(1, 1), padding=(1, 1), bias=False)\n",
       "      (bn5): BatchNorm2d(32, eps=1e-05, momentum=0.1, affine=True, track_running_stats=True)\n",
       "      (leaky5): LeakyReLU(negative_slope=0.1, inplace=True)\n",
       "    )\n",
       "    (6): EmptyModule()\n",
       "    (7): Sequential(\n",
       "      (conv6): Conv2d(64, 64, kernel_size=(1, 1), stride=(1, 1), bias=False)\n",
       "      (bn6): BatchNorm2d(64, eps=1e-05, momentum=0.1, affine=True, track_running_stats=True)\n",
       "      (leaky6): LeakyReLU(negative_slope=0.1, inplace=True)\n",
       "    )\n",
       "    (8): EmptyModule()\n",
       "    (9): MaxPool2d(kernel_size=2, stride=2, padding=0, dilation=1, ceil_mode=False)\n",
       "    (10): Sequential(\n",
       "      (conv7): Conv2d(128, 128, kernel_size=(3, 3), stride=(1, 1), padding=(1, 1), bias=False)\n",
       "      (bn7): BatchNorm2d(128, eps=1e-05, momentum=0.1, affine=True, track_running_stats=True)\n",
       "      (leaky7): LeakyReLU(negative_slope=0.1, inplace=True)\n",
       "    )\n",
       "    (11): EmptyModule()\n",
       "    (12): Sequential(\n",
       "      (conv8): Conv2d(64, 64, kernel_size=(3, 3), stride=(1, 1), padding=(1, 1), bias=False)\n",
       "      (bn8): BatchNorm2d(64, eps=1e-05, momentum=0.1, affine=True, track_running_stats=True)\n",
       "      (leaky8): LeakyReLU(negative_slope=0.1, inplace=True)\n",
       "    )\n",
       "    (13): Sequential(\n",
       "      (conv9): Conv2d(64, 64, kernel_size=(3, 3), stride=(1, 1), padding=(1, 1), bias=False)\n",
       "      (bn9): BatchNorm2d(64, eps=1e-05, momentum=0.1, affine=True, track_running_stats=True)\n",
       "      (leaky9): LeakyReLU(negative_slope=0.1, inplace=True)\n",
       "    )\n",
       "    (14): EmptyModule()\n",
       "    (15): Sequential(\n",
       "      (conv10): Conv2d(128, 128, kernel_size=(1, 1), stride=(1, 1), bias=False)\n",
       "      (bn10): BatchNorm2d(128, eps=1e-05, momentum=0.1, affine=True, track_running_stats=True)\n",
       "      (leaky10): LeakyReLU(negative_slope=0.1, inplace=True)\n",
       "    )\n",
       "    (16): EmptyModule()\n",
       "    (17): MaxPool2d(kernel_size=2, stride=2, padding=0, dilation=1, ceil_mode=False)\n",
       "    (18): Sequential(\n",
       "      (conv11): Conv2d(256, 256, kernel_size=(3, 3), stride=(1, 1), padding=(1, 1), bias=False)\n",
       "      (bn11): BatchNorm2d(256, eps=1e-05, momentum=0.1, affine=True, track_running_stats=True)\n",
       "      (leaky11): LeakyReLU(negative_slope=0.1, inplace=True)\n",
       "    )\n",
       "    (19): EmptyModule()\n",
       "    (20): Sequential(\n",
       "      (conv12): Conv2d(128, 128, kernel_size=(3, 3), stride=(1, 1), padding=(1, 1), bias=False)\n",
       "      (bn12): BatchNorm2d(128, eps=1e-05, momentum=0.1, affine=True, track_running_stats=True)\n",
       "      (leaky12): LeakyReLU(negative_slope=0.1, inplace=True)\n",
       "    )\n",
       "    (21): Sequential(\n",
       "      (conv13): Conv2d(128, 128, kernel_size=(3, 3), stride=(1, 1), padding=(1, 1), bias=False)\n",
       "      (bn13): BatchNorm2d(128, eps=1e-05, momentum=0.1, affine=True, track_running_stats=True)\n",
       "      (leaky13): LeakyReLU(negative_slope=0.1, inplace=True)\n",
       "    )\n",
       "    (22): EmptyModule()\n",
       "    (23): Sequential(\n",
       "      (conv14): Conv2d(256, 256, kernel_size=(1, 1), stride=(1, 1), bias=False)\n",
       "      (bn14): BatchNorm2d(256, eps=1e-05, momentum=0.1, affine=True, track_running_stats=True)\n",
       "      (leaky14): LeakyReLU(negative_slope=0.1, inplace=True)\n",
       "    )\n",
       "    (24): EmptyModule()\n",
       "    (25): MaxPool2d(kernel_size=2, stride=2, padding=0, dilation=1, ceil_mode=False)\n",
       "    (26): Sequential(\n",
       "      (conv15): Conv2d(512, 512, kernel_size=(3, 3), stride=(1, 1), padding=(1, 1), bias=False)\n",
       "      (bn15): BatchNorm2d(512, eps=1e-05, momentum=0.1, affine=True, track_running_stats=True)\n",
       "      (leaky15): LeakyReLU(negative_slope=0.1, inplace=True)\n",
       "    )\n",
       "    (27): Sequential(\n",
       "      (conv16): Conv2d(512, 256, kernel_size=(1, 1), stride=(1, 1), bias=False)\n",
       "      (bn16): BatchNorm2d(256, eps=1e-05, momentum=0.1, affine=True, track_running_stats=True)\n",
       "      (leaky16): LeakyReLU(negative_slope=0.1, inplace=True)\n",
       "    )\n",
       "    (28): Sequential(\n",
       "      (conv17): Conv2d(256, 512, kernel_size=(3, 3), stride=(1, 1), padding=(1, 1), bias=False)\n",
       "      (bn17): BatchNorm2d(512, eps=1e-05, momentum=0.1, affine=True, track_running_stats=True)\n",
       "      (leaky17): LeakyReLU(negative_slope=0.1, inplace=True)\n",
       "    )\n",
       "    (29): Sequential(\n",
       "      (conv18): Conv2d(512, 21, kernel_size=(1, 1), stride=(1, 1))\n",
       "      (linear18): Identity()\n",
       "    )\n",
       "    (30): YoloLayer()\n",
       "    (31): EmptyModule()\n",
       "    (32): Sequential(\n",
       "      (conv19): Conv2d(256, 128, kernel_size=(1, 1), stride=(1, 1), bias=False)\n",
       "      (bn19): BatchNorm2d(128, eps=1e-05, momentum=0.1, affine=True, track_running_stats=True)\n",
       "      (leaky19): LeakyReLU(negative_slope=0.1, inplace=True)\n",
       "    )\n",
       "    (33): Upsample_expand()\n",
       "    (34): EmptyModule()\n",
       "    (35): Sequential(\n",
       "      (conv20): Conv2d(384, 256, kernel_size=(3, 3), stride=(1, 1), padding=(1, 1), bias=False)\n",
       "      (bn20): BatchNorm2d(256, eps=1e-05, momentum=0.1, affine=True, track_running_stats=True)\n",
       "      (leaky20): LeakyReLU(negative_slope=0.1, inplace=True)\n",
       "    )\n",
       "    (36): Sequential(\n",
       "      (conv21): Conv2d(256, 21, kernel_size=(1, 1), stride=(1, 1))\n",
       "      (linear21): Identity()\n",
       "    )\n",
       "    (37): YoloLayer()\n",
       "  )\n",
       "  (loss): YoloLayer()\n",
       ")"
      ]
     },
     "execution_count": 2,
     "metadata": {},
     "output_type": "execute_result"
    }
   ],
   "source": [
    "# %%capture\n",
    "# TODO: load the custom trained YOLOv4-Tiny with load_pytorch()\n",
    "\n",
    "#UnpicklingError: invalid load key, '\\x00'.\n",
    "# pytorch_model = load_pytorch(cfg_path, torch_weights_path) \n",
    "\n",
    "# use the other function to load the model and change it to evaluation mode\n",
    "pytorch_model = load_darknet_as_pytorch(cfg_path, torch_weights_path)\n",
    "pytorch_model.eval()"
   ]
  },
  {
   "cell_type": "markdown",
   "id": "22ccca72",
   "metadata": {},
   "source": [
    "### Define throughput in the context of deep learning models.\n",
    "\n",
    "**TODO:** Your answer here.\n",
    "\n",
    "Throughput refers to the number of data units processed in one unit of time."
   ]
  },
  {
   "cell_type": "markdown",
   "id": "89e05c15",
   "metadata": {},
   "source": [
    "**TODO:** Complete the function **measure_throughput()** in **darknet_utils/inference.py**."
   ]
  },
  {
   "cell_type": "code",
   "execution_count": 3,
   "id": "5fc9ebc8",
   "metadata": {},
   "outputs": [
    {
     "data": {
      "text/plain": [
       "118.2225032598324"
      ]
     },
     "execution_count": 3,
     "metadata": {},
     "output_type": "execute_result"
    }
   ],
   "source": [
    "# TODO: use measure_throughput() to measure the throughput of your PyTorch YOLOv4-Tiny\n",
    "#       what is a reasonable input shape to measure throughput?\n",
    "measure_throughput(pytorch_model, (1,3,480,640))"
   ]
  },
  {
   "cell_type": "markdown",
   "id": "d0fdf627",
   "metadata": {},
   "source": [
    "Now you will investigate the PyTorch [JIT](https://en.wikipedia.org/wiki/Just-in-time_compilation) functionality to further optimize YOLOv4-Tiny for inference on the Jetson Nano. [PyTorch JIT](https://pytorch.org/docs/stable/jit.html) has two methods for converting a standard PyTorch model to a [TorchScript](https://pytorch.org/docs/stable/jit.html#:~:text=TorchScript%20is%20a%20way%20to,there%20is%20no%20Python%20dependency.) model - script and trace. Torchscript models are optimizable and serializable. That means they can be saved independently from Python and used in other contexts like a C++ program. \n",
    "\n",
    "### What is meant by eager execution and graph execution?\n",
    "\n",
    "**TODO:** Your answer here.\n",
    "\n",
    "Eager execution is an imperative, define-by-run interface where operations are executed immediately as they are called from Python.\n",
    "\n",
    "Graph execution mode is a symbolic computational framework. It needs to first construct a graph explaining what the opetations are, then create a session for computing.\n",
    "\n",
    "### Explain the difference between \"script\" and \"trace\". When would you use jit.script and when would you use jit.trace? Why do you need to include a sample input when using jit.trace?\n",
    "\n",
    "**TODO:** Your answer here.\n",
    "\n",
    "Scripting a function or nn.Module will inspect the source code, compile it as TorchScript code using the TorchScript compiler, and return a ScriptModule or ScriptFunction.\n",
    "\n",
    "Trace a function and return an executable or ScriptFunction that will be optimized using just-in-time compilation.\n",
    "\n",
    "Trace is suitable for operations that do not require conditions based on data, like standard convolutional neural network. If there;s condition operations, script are more suitable to be used.\n",
    "\n",
    "\n",
    "\n",
    "Because the function will recording the operations performed on the example inputs."
   ]
  },
  {
   "cell_type": "markdown",
   "id": "d816e5ed",
   "metadata": {},
   "source": [
    "**TODO:** Use `torch.jit.trace()` to create a traced TorchScript model. Save the traced model weights to the weights directory with `torch.jit.save()`."
   ]
  },
  {
   "cell_type": "code",
   "execution_count": 4,
   "id": "3c1bb3d8",
   "metadata": {},
   "outputs": [],
   "source": [
    "# TODO: Use torch.jit to generate a traced PyTorch version of YOLOv4-Tiny.\n",
    "\n",
    "save_path = './weights/jit_trace_model_weights.pt'\n",
    "\n",
    "example_forward_input = torch.rand(1,3,480,640).to(device)\n",
    "pytorch_model.cuda()\n",
    "# traced_model = torch.jit.trace()\n",
    "traced_model = torch.jit.trace(pytorch_model.forward, example_forward_input)\n",
    "\n",
    "# traced_model\n",
    "torch.jit.save(traced_model, save_path)"
   ]
  },
  {
   "cell_type": "code",
   "execution_count": 5,
   "id": "e4d4de03",
   "metadata": {},
   "outputs": [
    {
     "name": "stdout",
     "output_type": "stream",
     "text": [
      "JIT traced model matches PyTorch:  True\n"
     ]
    }
   ],
   "source": [
    "# Verify that output of traced model matches output of original model\n",
    "\n",
    "input_array = torch.randn((4, 3, 480, 640)).to(device) # define input tensor\n",
    "\n",
    "torch_output = pytorch_model(input_array)[0].cpu().detach().numpy() # pass input through models\n",
    "jit_output = traced_model(input_array)[0].cpu().detach().numpy()\n",
    "\n",
    "print(\"JIT traced model matches PyTorch: \", np.allclose(torch_output, jit_output)) # compare outputs"
   ]
  },
  {
   "cell_type": "code",
   "execution_count": 7,
   "id": "7184b328",
   "metadata": {},
   "outputs": [
    {
     "data": {
      "text/plain": [
       "139.48398258631784"
      ]
     },
     "execution_count": 7,
     "metadata": {},
     "output_type": "execute_result"
    }
   ],
   "source": [
    "# TODO: use measure_throughput() to measure the throughput of your traced YOLOv4-Tiny\n",
    "measure_throughput(traced_model, (1,3,480,640))"
   ]
  },
  {
   "cell_type": "markdown",
   "id": "e8d907d4",
   "metadata": {},
   "source": [
    "**TODO:** Calculate and plot throughput as a function of batch size for both models. Calculate throughput for the largest batch size you can fit into the Jetson Nano's memory. You're welcome to use **plot_execution_times()** or your own plotting function."
   ]
  },
  {
   "cell_type": "code",
   "execution_count": 22,
   "id": "c4651750",
   "metadata": {},
   "outputs": [],
   "source": [
    "# TODO: calculate throughput as a function of batch size for both models\n",
    "def throughput_bs(model, batch_sizes):\n",
    "    \n",
    "    throughput_list = []\n",
    "    for bs in batch_sizes:\n",
    "        throughput_list.append(measure_throughput(model, (bs,3,480,640), warmup_iterations=10, iterations=20))\n",
    "    \n",
    "    return throughput_list\n",
    "\n",
    "batch_sizes = list(np.arange(0,101,10))\n",
    "batch_sizes[0] = 1\n",
    "\n",
    "tp_list_pytorch = throughput_bs(pytorch_model, batch_sizes)\n",
    "tp_list_traced = throughput_bs(traced_model, batch_sizes)\n"
   ]
  },
  {
   "cell_type": "code",
   "execution_count": 23,
   "id": "83937c21",
   "metadata": {},
   "outputs": [
    {
     "data": {
      "image/png": "[encoded data removed]",
      "text/plain": [
       "<Figure size 576x504 with 1 Axes>"
      ]
     },
     "metadata": {
      "needs_background": "light"
     },
     "output_type": "display_data"
    }
   ],
   "source": [
    "# TODO: plot throughput as a function of batch size for both models\n",
    "title = 'Comparison of throughput'\n",
    "\n",
    "plot_execution_times(tp_list_pytorch, tp_list_traced, title, batch_sizes,\n",
    "                         marker_size=7, logy=True, figsize=(8, 7))"
   ]
  },
  {
   "cell_type": "markdown",
   "id": "0e645674",
   "metadata": {},
   "source": [
    "### Discuss the results of your throughput measurements. Are there any surprising results? Which batch sizes result in the largest throughputs? Is this batch size reasonable to use in real-time applications?\n",
    "\n",
    "**TODO:** Your answer here."
   ]
  },
  {
   "cell_type": "markdown",
   "id": "9162ee99-afe0-470d-a0f6-83c5099c87d1",
   "metadata": {},
   "source": [
    "Except when the batch size is 1, the performance of both model are the same.\n",
    "\n",
    "When the batch size is the smallest, which is 1, both model has the highest result and the traced model is better (about 5-10% percent of improvement) than the pytorch model. \n",
    "\n",
    "In real-time applications, 5-10% of improvement means a lot, it can handle more data in an unit time without improve the hardware. In image detection tasks, this means a higher fps."
   ]
  }
 ],
 "metadata": {
  "kernelspec": {
   "display_name": "Python 3",
   "language": "python",
   "name": "python3"
  },
  "language_info": {
   "codemirror_mode": {
    "name": "ipython",
    "version": 3
   },
   "file_extension": ".py",
   "mimetype": "text/x-python",
   "name": "python",
   "nbconvert_exporter": "python",
   "pygments_lexer": "ipython3",
   "version": "3.7.12"
  }
 },
 "nbformat": 4,
 "nbformat_minor": 5
}
