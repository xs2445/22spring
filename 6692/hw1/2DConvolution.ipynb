{
 "cells": [
  {
   "cell_type": "markdown",
   "id": "9d1e9967",
   "metadata": {},
   "source": [
    "# Assignment 1 - Convolution\n",
    "## E6692 Spring 2022"
   ]
  },
  {
   "cell_type": "markdown",
   "id": "4e8ddd8c",
   "metadata": {},
   "source": [
    "## Part 2: Dilated 2D Convolution\n",
    "\n",
    "In this part you will implement 2D **dilated convolution** (also known as \"atrous convolution\" and \"convolution with holes\". Dilated convolution is a variation of normal 2D convolution, which you are familiar with. The idea is that we take a normal 2D convolutional kernel, and expand (dilate) it to cover more area of the input by inserting spaces between the kernel elements. See the animation below to get an intuitive understanding of the difference between a normal kernel and a dilated kernel.\n",
    "\n",
    "![Dilated Convolution GIF](https://miro.medium.com/max/1400/1*btockft7dtKyzwXqfq70_w.gif)\n",
    "\n",
    "For further explanation see [this article](https://towardsdatascience.com/review-drn-dilated-residual-networks-image-classification-semantic-segmentation-d527e1a8fb5#:~:text=1.%20Dilated%20Convolution)."
   ]
  },
  {
   "cell_type": "code",
   "execution_count": null,
   "id": "f57d4762",
   "metadata": {},
   "outputs": [],
   "source": [
    "import torch\n",
    "import numpy as np\n",
    "from scipy.signal import convolve2d\n",
    "\n",
    "from utils.convolution2D_visuals import *\n",
    "from utils.convolution2D import *\n",
    "\n",
    "%load_ext autoreload\n",
    "%autoreload 2\n",
    "\n",
    "%matplotlib inline"
   ]
  },
  {
   "cell_type": "markdown",
   "id": "25cc9926",
   "metadata": {},
   "source": [
    "TODO: Implement the functions in **utils/convolution2D.py**. "
   ]
  },
  {
   "cell_type": "code",
   "execution_count": null,
   "id": "44fff512",
   "metadata": {},
   "outputs": [],
   "source": [
    "################################################################\n",
    "################# dilate_kernel() TEST CASES ###################\n",
    "################################################################\n",
    "\n",
    "in1 = np.ones((10, 10))\n",
    "out1 = dilate_kernel(in1, 1)\n",
    "solution1 = in1\n",
    "\n",
    "print(\"dilate_kernel() Test 1 passed: \", np.allclose(out1, solution1))\n",
    "\n",
    "in2 = np.ones((3, 3))\n",
    "out2 = dilate_kernel(in2, 2)\n",
    "solution2 = np.array([[1., 0., 1., 0., 1.],\n",
    "                      [0., 0., 0., 0., 0.],\n",
    "                      [1., 0., 1., 0., 1.],\n",
    "                      [0., 0., 0., 0., 0.],\n",
    "                      [1., 0., 1., 0., 1.]])\n",
    "\n",
    "print(\"dilate_kernel() Test 2 passed: \", np.allclose(out2, solution2))\n",
    "\n",
    "in3 = np.array([[3, 8, 5, 4, 9, 4],\n",
    "                [4, 3, 1, 7, 4, 5]])\n",
    "out3 = dilate_kernel(in3, 3)\n",
    "solution3 = np.array([[3, 0, 0, 8, 0, 0, 5, 0, 0, 4, 0, 0, 9, 0, 0, 4],\n",
    "                      [0, 0, 0, 0, 0, 0, 0, 0, 0, 0, 0, 0, 0, 0, 0, 0],\n",
    "                      [0, 0, 0, 0, 0, 0, 0, 0, 0, 0, 0, 0, 0, 0, 0, 0],\n",
    "                      [4, 0, 0, 3, 0, 0, 1, 0, 0, 7, 0, 0, 4, 0, 0, 5]])\n",
    "\n",
    "\n",
    "print(\"dilate_kernel() Test 3 passed: \", np.allclose(out3, solution3))\n",
    "\n",
    "in4 = np.array([[8, -1, 3, -6],\n",
    "                [3, 4, 6, -5],\n",
    "                [2, -4, 8, 4],\n",
    "                [0, 2, -4, 5],\n",
    "                [-9, -5, 5, -3]])\n",
    "out4 = dilate_kernel(in4, 2)\n",
    "solution4 = np.array([[ 8.,  0., -1.,  0.,  3.,  0., -6.],\n",
    "                      [ 0.,  0.,  0.,  0.,  0.,  0.,  0.],\n",
    "                      [ 3.,  0.,  4.,  0.,  6.,  0., -5.],\n",
    "                      [ 0.,  0.,  0.,  0.,  0.,  0.,  0.],\n",
    "                      [ 2.,  0., -4.,  0.,  8.,  0.,  4.],\n",
    "                      [ 0.,  0.,  0.,  0.,  0.,  0.,  0.],\n",
    "                      [ 0.,  0.,  2.,  0., -4.,  0.,  5.],\n",
    "                      [ 0.,  0.,  0.,  0.,  0.,  0.,  0.],\n",
    "                      [-9.,  0., -5.,  0.,  5.,  0., -3.]])\n",
    "\n",
    "print(\"dilate_kernel() Test 4 passed: \", np.allclose(out4, solution4))\n",
    "\n",
    "################################################################\n",
    "################ DO NOT MODIFY THE CODE ABOVE ##################\n",
    "################################################################"
   ]
  },
  {
   "cell_type": "code",
   "execution_count": null,
   "id": "648b3fa5",
   "metadata": {},
   "outputs": [],
   "source": [
    "################################################################\n",
    "################## calc_conv2d() TEST CASES ####################\n",
    "################################################################\n",
    "\n",
    "in1 = np.random.randint(4, size=(4, 4))\n",
    "kernel1 = np.random.randint(4, size=(2, 2))\n",
    "out1 = calc_conv2d(in1, kernel1)\n",
    "solution1 = convolve2d(in1, kernel1, mode='valid')\n",
    "\n",
    "print(\"calc_conv2d() Test 1 passed: \", np.allclose(out1, solution1))\n",
    "\n",
    "in2 = np.random.randint(40, size=(40, 4))\n",
    "kernel2 = np.random.randint(4, size=(5, 2))\n",
    "out2 = calc_conv2d(in2, kernel2)\n",
    "solution2 = convolve2d(in2, kernel2, mode='valid')\n",
    "\n",
    "print(\"calc_conv2d() Test 2 passed: \", np.allclose(out2, solution2))\n",
    "\n",
    "in3 = np.random.randint(400, size=(40, 400))\n",
    "kernel3 = np.random.randint(10, size=(5, 20))\n",
    "out3 = calc_conv2d(in3, kernel3)\n",
    "solution3 = convolve2d(in3, kernel3, mode='valid')\n",
    "\n",
    "print(\"calc_conv2d() Test 3 passed: \", np.allclose(out3, solution3))\n",
    "\n",
    "in4 = np.random.randint(10, size=(10, 10))\n",
    "kernel4 = np.random.randint(10, size=(3, 0))\n",
    "out4 = calc_conv2d(in4, kernel4)\n",
    "solution4 = convolve2d(in4, kernel4, mode='valid')\n",
    "\n",
    "print(\"calc_conv2d() Test 4 passed: \", np.allclose(out4, solution4))\n",
    "\n",
    "################################################################\n",
    "################ DO NOT MODIFY THE CODE ABOVE ##################\n",
    "################################################################"
   ]
  },
  {
   "cell_type": "markdown",
   "id": "d1e1f768",
   "metadata": {},
   "source": [
    "### Load CIFAR10 Image Dataset"
   ]
  },
  {
   "cell_type": "code",
   "execution_count": null,
   "id": "ee3dc3ac",
   "metadata": {},
   "outputs": [],
   "source": [
    "dataset = get_cifar10()"
   ]
  },
  {
   "cell_type": "markdown",
   "id": "174487b6",
   "metadata": {},
   "source": [
    "#### Visualize Dataset\n",
    "\n",
    "Note that each time the cell below is executed, a new image is displayed."
   ]
  },
  {
   "cell_type": "code",
   "execution_count": null,
   "id": "962bd0a3",
   "metadata": {},
   "outputs": [],
   "source": [
    "dataloader = torch.utils.data.DataLoader(dataset, batch_size=1, shuffle=True)\n",
    "dataiter = iter(dataloader)\n",
    "images, _ = dataiter.next()\n",
    "display_image(images[0])"
   ]
  },
  {
   "cell_type": "markdown",
   "id": "eacceee3",
   "metadata": {},
   "source": [
    "### Apply Dilated Convolution to Images"
   ]
  },
  {
   "cell_type": "code",
   "execution_count": null,
   "id": "3fef22b6",
   "metadata": {},
   "outputs": [],
   "source": [
    "image = images[0].numpy().transpose(1, 2, 0)\n",
    "\n",
    "kernel = np.array([[0, -1, 0], # the \"sharpen\" kernel\n",
    "                   [-1, 5, -1],\n",
    "                   [0, -1, 0]])\n",
    "\n",
    "dilations = [1, 2, 4]\n",
    "\n",
    "visualize(image, kernel, dilations)"
   ]
  },
  {
   "cell_type": "code",
   "execution_count": null,
   "id": "e56e95c5",
   "metadata": {},
   "outputs": [],
   "source": [
    "# TODO: experiment with different images, kernels, kernel sizes, and dilation factors.\n",
    "\n"
   ]
  },
  {
   "cell_type": "markdown",
   "id": "20502b01",
   "metadata": {},
   "source": [
    "### Discussion\n",
    "\n",
    "#### Discuss the difference between increased kernel size and increased dilation factor on the output.\n",
    "\n",
    "TODO: your answer here\n",
    "\n",
    "#### Did you find any parameter combinations that produce particularly interesting outputs?\n",
    "\n",
    "TODO: your answer here\n"
   ]
  }
 ],
 "metadata": {
  "kernelspec": {
   "display_name": "Python 3 (ipykernel)",
   "language": "python",
   "name": "python3"
  },
  "language_info": {
   "codemirror_mode": {
    "name": "ipython",
    "version": 3
   },
   "file_extension": ".py",
   "mimetype": "text/x-python",
   "name": "python",
   "nbconvert_exporter": "python",
   "pygments_lexer": "ipython3",
   "version": "3.7.9"
  }
 },
 "nbformat": 4,
 "nbformat_minor": 5
}
