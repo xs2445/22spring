{
 "cells": [
  {
   "cell_type": "markdown",
   "id": "d4fe400e",
   "metadata": {},
   "source": [
    "## Lab - TensorRT + Profiling - YOLOv4-Tiny TensorRT\n",
    "## E6692 Spring 2022\n"
   ]
  },
  {
   "cell_type": "markdown",
   "id": "614fc3ba",
   "metadata": {},
   "source": [
    "In this notebook we outline the steps for converting your trained Darknet YOLOv4-Tiny model from the previous lab (Lab-YOLOv4-Tiny) to a TensorRT model. We use the scripts **utils/yolo2onnx.py** to first convert the Darknet model to ONNX. ONNX stands for the Open Neural Network Exchange, and is a standardized format for converting machine learning and deep learning models between frameworks. Once you have an ONNX version of YOLOv4-Tiny, we use the script **utils/onnx2tensorrt.py** to convert from ONNX to TensorRT automatically using the ONNX parser. "
   ]
  },
  {
   "cell_type": "code",
   "execution_count": null,
   "id": "e666ae95",
   "metadata": {},
   "outputs": [],
   "source": [
    "# TODO: install onnx 1.4.1\n",
    "\n",
    "!pip3 install onnx==1.4.1"
   ]
  },
  {
   "cell_type": "markdown",
   "id": "acbef600",
   "metadata": {},
   "source": [
    "**TODO:** Use the command `python3 yolo2onnx.py <cfg_path> <weights_path> <onnx_model_path>` to generate an ONNX graph from the darknet YOLOv4-Tiny model you trained in the previous lab. `cfg_path` specifies the Darknet configuration file path, `weights_path` specifies the Darknet weights file path, and `onnx_model_path` specifies the path where the ONNX graph will be saved."
   ]
  },
  {
   "cell_type": "markdown",
   "id": "437408fc",
   "metadata": {},
   "source": [
    "**TODO:** Navigate to the **plugins** directory and enter the command `make` to compile the **yolo_layer** plugin code.\n",
    "\n",
    "### Why did we have to do that? What is yolo_layer?\n",
    "\n",
    "**TODO:** Your answer here."
   ]
  },
  {
   "cell_type": "markdown",
   "id": "b60bf300",
   "metadata": {},
   "source": [
    "**TODO:** Use the command `python3 onnx2tensorrt.py -cfg <cfg_path> -o <onnx_path> -t <trt_model_path>` to generate a serialized TensorRT engine for YOLOv4-Tiny. `cfg_path` is the path to the Darknet model configuration file, `onnx_path` is the path to the onnx model graph, and `trt_model_path` is the path that the serialized TensorRT engine will be written to."
   ]
  },
  {
   "cell_type": "code",
   "execution_count": null,
   "id": "73a5abae",
   "metadata": {},
   "outputs": [],
   "source": [
    "import os\n",
    "import cv2\n",
    "import matplotlib.pyplot as plt\n",
    "\n",
    "from utils.yoloTRT import TrtYOLO\n",
    "from utils.utils import draw_bboxes\n",
    "\n",
    "trt_engine = './engines/yolov4-tiny-person-vehicle.trt'\n",
    "test_frames = './test_frames'\n",
    "\n",
    "CONF_THRESH = 0.4\n",
    "\n",
    "%load_ext autoreload\n",
    "%autoreload 2"
   ]
  },
  {
   "cell_type": "markdown",
   "id": "ccc5621f",
   "metadata": {},
   "source": [
    "**TODO:** Load the YOLOv4-Tiny TensorRT engine with **TrtYOLO()** in **yoloTRT.py**. This class has all the functions needed for inference with the TensorRT version of YOLO."
   ]
  },
  {
   "cell_type": "code",
   "execution_count": null,
   "id": "5975d6c2",
   "metadata": {},
   "outputs": [],
   "source": [
    "# TODO: load the TRT YOLOv4-Tiny with TrtYOLO()\n"
   ]
  },
  {
   "cell_type": "markdown",
   "id": "9da6e380",
   "metadata": {},
   "source": [
    "**TODO:** In **test_frames** there are several images taken from the Mudd building cameras and other intersections in NYC. Use the TensorRT YOLOv4-Tiny model to perform inference on all the test frames. Do the inference and display the detected images below:"
   ]
  },
  {
   "cell_type": "code",
   "execution_count": null,
   "id": "fa8b4635",
   "metadata": {},
   "outputs": [],
   "source": [
    "# TODO: do inference with TRT YOLOv4-Tiny and display the detections\n"
   ]
  },
  {
   "cell_type": "markdown",
   "id": "ae823455",
   "metadata": {},
   "source": [
    "## Comment on the effectiveness of the detection. How does the model generalize to new traffic intersection domains? (1st floor, 2nd floor, 12th floor, and other intersection scenes)\n",
    "\n",
    "**TODO:** Your answer here.\n"
   ]
  },
  {
   "cell_type": "code",
   "execution_count": null,
   "id": "08fefefe",
   "metadata": {},
   "outputs": [],
   "source": []
  }
 ],
 "metadata": {
  "kernelspec": {
   "display_name": "Python 3 (ipykernel)",
   "language": "python",
   "name": "python3"
  },
  "language_info": {
   "codemirror_mode": {
    "name": "ipython",
    "version": 3
   },
   "file_extension": ".py",
   "mimetype": "text/x-python",
   "name": "python",
   "nbconvert_exporter": "python",
   "pygments_lexer": "ipython3",
   "version": "3.7.9"
  }
 },
 "nbformat": 4,
 "nbformat_minor": 5
}
